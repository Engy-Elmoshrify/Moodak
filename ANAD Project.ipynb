{
 "cells": [
  {
   "cell_type": "code",
   "execution_count": 377,
   "metadata": {},
   "outputs": [],
   "source": [
    "import soundfile # to read audio file\n",
    "import numpy as np\n",
    "import scipy\n",
    "import librosa # to extract speech features\n",
    "import glob\n",
    "import pandas as pd\n",
    "from  scipy.sparse import csr_matrix\n",
    "import os\n",
    "import pickle # to save model after training\n",
    "from sklearn.model_selection import train_test_split # for splitting training and testing\n",
    "from sklearn.neural_network import MLPClassifier # multi-layer perceptron model\n",
    "from sklearn.metrics import accuracy_score # to measure how good we are"
   ]
  },
  {
   "cell_type": "code",
   "execution_count": 418,
   "metadata": {},
   "outputs": [],
   "source": [
    "def extract_feature(file_name, **kwargs):\n",
    "    \"\"\"\n",
    "    Extract feature from audio file `file_name`\n",
    "        Features supported:\n",
    "            - MFCC (mfcc)\n",
    "            - Chroma (chroma)\n",
    "            - MEL Spectrogram Frequency (mel)\n",
    "            - Contrast (contrast)\n",
    "            - Tonnetz (tonnetz)\n",
    "        e.g:\n",
    "        `features = extract_feature(path, mel=True, mfcc=True)`\n",
    "    \"\"\" \n",
    "    mfcc = kwargs.get(\"mfcc\")\n",
    "    chroma = kwargs.get(\"chroma\")\n",
    "    mel = kwargs.get(\"mel\")\n",
    "    contrast = kwargs.get(\"contrast\")\n",
    "    tonnetz = kwargs.get(\"tonnetz\")\n",
    "    with soundfile.SoundFile(file_name) as sound_file:\n",
    "        X = sound_file.read(dtype=\"float32\")\n",
    "        sample_rate = sound_file.samplerate\n",
    "        #if chroma or contrast:\n",
    "        #stft = np.abs(librosa.stft(X))\n",
    "        audio=np.frombuffer(X,dtype=np.int16)\n",
    "        stft = librosa.feature.melspectrogram(audio.astype('float32'), sr= sample_rate)\n",
    "        result = np.array([])\n",
    "        if mfcc:\n",
    "            #mfccs = np.mean(librosa.feature.mfcc(y=X, sr=16000, n_mfcc=40).T, axis=0)\n",
    "            mfc= np.mean(librosa.feature.mfcc(y=X, sr=16000, S=stft, n_mfcc=40).T,axis=0)\n",
    "            #result=result.reshape(40,334)\n",
    "            #result = result.reshape(1,total_length)\n",
    "            result = np.hstack((result, mfc))\n",
    "        if chroma:\n",
    "            chroma = np.mean(librosa.feature.chroma_stft(S=stft, sr=16000).T,axis=0)\n",
    "            result = np.hstack((result, chroma))\n",
    "        if mel:  \n",
    "            mel = np.mean(librosa.feature.melspectrogram(y=X,S=stft, sr=16000).T,axis=0)\n",
    "            rows = len(mel)\n",
    "            columns = 1\n",
    "            total_length = rows * columns\n",
    "            #mel=mel.reshape(1,total_length)\n",
    "            result = np.hstack((result, mel))\n",
    "        if contrast:\n",
    "            contrast = np.mean(librosa.feature.spectral_contrast(S=stft, sr=16000).T,axis=0)\n",
    "            result = np.hstack((result, contrast))\n",
    "        if tonnetz:\n",
    "            #tonnetz = np.mean(librosa.feature.tonnetz(y=librosa.effects.harmonic(X), S=stft,sr=sample_rate).T,axis=0)\n",
    "            tonnetz = np.mean(librosa.feature.tonnetz(y=X, sr=16000, chroma=chroma).T,axis=0)\n",
    "            result = np.hstack((result, tonnetz))\n",
    "    return result"
   ]
  },
  {
   "cell_type": "code",
   "execution_count": 379,
   "metadata": {},
   "outputs": [],
   "source": [
    "AVAILABLE_EMOTIONS = {\n",
    "    \"angry\",\n",
    "    \"surprised\",\n",
    "    \"happy\"\n",
    "}"
   ]
  },
  {
   "cell_type": "code",
   "execution_count": 380,
   "metadata": {},
   "outputs": [
    {
     "data": {
      "text/html": [
       "<div>\n",
       "<style scoped>\n",
       "    .dataframe tbody tr th:only-of-type {\n",
       "        vertical-align: middle;\n",
       "    }\n",
       "\n",
       "    .dataframe tbody tr th {\n",
       "        vertical-align: top;\n",
       "    }\n",
       "\n",
       "    .dataframe thead th {\n",
       "        text-align: right;\n",
       "    }\n",
       "</style>\n",
       "<table border=\"1\" class=\"dataframe\">\n",
       "  <thead>\n",
       "    <tr style=\"text-align: right;\">\n",
       "      <th></th>\n",
       "      <th>name</th>\n",
       "      <th>Emotion</th>\n",
       "      <th>pcm_intensity_sma_max</th>\n",
       "      <th>pcm_intensity_sma_min</th>\n",
       "      <th>pcm_intensity_sma_range</th>\n",
       "      <th>pcm_intensity_sma_maxPos</th>\n",
       "      <th>pcm_intensity_sma_minPos</th>\n",
       "      <th>pcm_intensity_sma_amean</th>\n",
       "      <th>pcm_intensity_sma_linregc1</th>\n",
       "      <th>pcm_intensity_sma_linregc2</th>\n",
       "      <th>...</th>\n",
       "      <th>F0env_sma_de_linregerrQ</th>\n",
       "      <th>F0env_sma_de_stddev</th>\n",
       "      <th>F0env_sma_de_skewness</th>\n",
       "      <th>F0env_sma_de_kurtosis</th>\n",
       "      <th>F0env_sma_de_quartile1</th>\n",
       "      <th>F0env_sma_de_quartile2</th>\n",
       "      <th>F0env_sma_de_quartile3</th>\n",
       "      <th>F0env_sma_de_iqr12</th>\n",
       "      <th>F0env_sma_de_iqr23</th>\n",
       "      <th>F0env_sma_de_iqr13</th>\n",
       "    </tr>\n",
       "  </thead>\n",
       "  <tbody>\n",
       "    <tr>\n",
       "      <th>0</th>\n",
       "      <td>V2_1 (1).wav'</td>\n",
       "      <td>surprised</td>\n",
       "      <td>0.000002</td>\n",
       "      <td>0</td>\n",
       "      <td>0.000002</td>\n",
       "      <td>39</td>\n",
       "      <td>0</td>\n",
       "      <td>0.0</td>\n",
       "      <td>0.0</td>\n",
       "      <td>0.0</td>\n",
       "      <td>...</td>\n",
       "      <td>44.29016</td>\n",
       "      <td>6.804174</td>\n",
       "      <td>3.144908</td>\n",
       "      <td>12.621420</td>\n",
       "      <td>-0.208212</td>\n",
       "      <td>0.000000</td>\n",
       "      <td>1.819850</td>\n",
       "      <td>0.208212</td>\n",
       "      <td>1.819850</td>\n",
       "      <td>2.028063</td>\n",
       "    </tr>\n",
       "    <tr>\n",
       "      <th>1</th>\n",
       "      <td>V2_1 (2).wav'</td>\n",
       "      <td>surprised</td>\n",
       "      <td>0.000002</td>\n",
       "      <td>0</td>\n",
       "      <td>0.000002</td>\n",
       "      <td>38</td>\n",
       "      <td>0</td>\n",
       "      <td>0.0</td>\n",
       "      <td>0.0</td>\n",
       "      <td>0.0</td>\n",
       "      <td>...</td>\n",
       "      <td>15.28410</td>\n",
       "      <td>4.709333</td>\n",
       "      <td>2.091973</td>\n",
       "      <td>7.180433</td>\n",
       "      <td>-0.068987</td>\n",
       "      <td>0.610156</td>\n",
       "      <td>2.934069</td>\n",
       "      <td>0.679144</td>\n",
       "      <td>2.323913</td>\n",
       "      <td>3.003057</td>\n",
       "    </tr>\n",
       "    <tr>\n",
       "      <th>2</th>\n",
       "      <td>V2_1 (3).wav'</td>\n",
       "      <td>surprised</td>\n",
       "      <td>0.000002</td>\n",
       "      <td>0</td>\n",
       "      <td>0.000002</td>\n",
       "      <td>38</td>\n",
       "      <td>0</td>\n",
       "      <td>0.0</td>\n",
       "      <td>0.0</td>\n",
       "      <td>0.0</td>\n",
       "      <td>...</td>\n",
       "      <td>46.80196</td>\n",
       "      <td>7.886595</td>\n",
       "      <td>2.563328</td>\n",
       "      <td>9.669317</td>\n",
       "      <td>-0.837921</td>\n",
       "      <td>0.000000</td>\n",
       "      <td>1.825973</td>\n",
       "      <td>0.837921</td>\n",
       "      <td>1.825973</td>\n",
       "      <td>2.663894</td>\n",
       "    </tr>\n",
       "    <tr>\n",
       "      <th>3</th>\n",
       "      <td>V2_1 (4).wav'</td>\n",
       "      <td>surprised</td>\n",
       "      <td>0.000002</td>\n",
       "      <td>0</td>\n",
       "      <td>0.000002</td>\n",
       "      <td>38</td>\n",
       "      <td>0</td>\n",
       "      <td>0.0</td>\n",
       "      <td>0.0</td>\n",
       "      <td>0.0</td>\n",
       "      <td>...</td>\n",
       "      <td>26.65183</td>\n",
       "      <td>5.670303</td>\n",
       "      <td>1.837990</td>\n",
       "      <td>7.500129</td>\n",
       "      <td>0.000000</td>\n",
       "      <td>0.215477</td>\n",
       "      <td>3.138976</td>\n",
       "      <td>0.215477</td>\n",
       "      <td>2.923499</td>\n",
       "      <td>3.138976</td>\n",
       "    </tr>\n",
       "    <tr>\n",
       "      <th>4</th>\n",
       "      <td>V2_1 (5).wav'</td>\n",
       "      <td>surprised</td>\n",
       "      <td>0.000001</td>\n",
       "      <td>0</td>\n",
       "      <td>0.000001</td>\n",
       "      <td>57</td>\n",
       "      <td>0</td>\n",
       "      <td>0.0</td>\n",
       "      <td>0.0</td>\n",
       "      <td>0.0</td>\n",
       "      <td>...</td>\n",
       "      <td>16.19031</td>\n",
       "      <td>4.621727</td>\n",
       "      <td>1.855579</td>\n",
       "      <td>5.687108</td>\n",
       "      <td>-0.105829</td>\n",
       "      <td>0.327793</td>\n",
       "      <td>2.982076</td>\n",
       "      <td>0.433622</td>\n",
       "      <td>2.654283</td>\n",
       "      <td>3.087905</td>\n",
       "    </tr>\n",
       "  </tbody>\n",
       "</table>\n",
       "<p>5 rows × 846 columns</p>\n",
       "</div>"
      ],
      "text/plain": [
       "            name   Emotion   pcm_intensity_sma_max  pcm_intensity_sma_min  \\\n",
       "0  V2_1 (1).wav'  surprised               0.000002                      0   \n",
       "1  V2_1 (2).wav'  surprised               0.000002                      0   \n",
       "2  V2_1 (3).wav'  surprised               0.000002                      0   \n",
       "3  V2_1 (4).wav'  surprised               0.000002                      0   \n",
       "4  V2_1 (5).wav'  surprised               0.000001                      0   \n",
       "\n",
       "   pcm_intensity_sma_range  pcm_intensity_sma_maxPos  \\\n",
       "0                 0.000002                        39   \n",
       "1                 0.000002                        38   \n",
       "2                 0.000002                        38   \n",
       "3                 0.000002                        38   \n",
       "4                 0.000001                        57   \n",
       "\n",
       "   pcm_intensity_sma_minPos  pcm_intensity_sma_amean  \\\n",
       "0                         0                      0.0   \n",
       "1                         0                      0.0   \n",
       "2                         0                      0.0   \n",
       "3                         0                      0.0   \n",
       "4                         0                      0.0   \n",
       "\n",
       "   pcm_intensity_sma_linregc1  pcm_intensity_sma_linregc2  ...  \\\n",
       "0                         0.0                         0.0  ...   \n",
       "1                         0.0                         0.0  ...   \n",
       "2                         0.0                         0.0  ...   \n",
       "3                         0.0                         0.0  ...   \n",
       "4                         0.0                         0.0  ...   \n",
       "\n",
       "   F0env_sma_de_linregerrQ  F0env_sma_de_stddev  F0env_sma_de_skewness  \\\n",
       "0                 44.29016             6.804174               3.144908   \n",
       "1                 15.28410             4.709333               2.091973   \n",
       "2                 46.80196             7.886595               2.563328   \n",
       "3                 26.65183             5.670303               1.837990   \n",
       "4                 16.19031             4.621727               1.855579   \n",
       "\n",
       "   F0env_sma_de_kurtosis  F0env_sma_de_quartile1  F0env_sma_de_quartile2  \\\n",
       "0              12.621420               -0.208212                0.000000   \n",
       "1               7.180433               -0.068987                0.610156   \n",
       "2               9.669317               -0.837921                0.000000   \n",
       "3               7.500129                0.000000                0.215477   \n",
       "4               5.687108               -0.105829                0.327793   \n",
       "\n",
       "   F0env_sma_de_quartile3  F0env_sma_de_iqr12  F0env_sma_de_iqr23  \\\n",
       "0                1.819850            0.208212            1.819850   \n",
       "1                2.934069            0.679144            2.323913   \n",
       "2                1.825973            0.837921            1.825973   \n",
       "3                3.138976            0.215477            2.923499   \n",
       "4                2.982076            0.433622            2.654283   \n",
       "\n",
       "   F0env_sma_de_iqr13  \n",
       "0            2.028063  \n",
       "1            3.003057  \n",
       "2            2.663894  \n",
       "3            3.138976  \n",
       "4            3.087905  \n",
       "\n",
       "[5 rows x 846 columns]"
      ]
     },
     "execution_count": 380,
     "metadata": {},
     "output_type": "execute_result"
    }
   ],
   "source": [
    " df = pd.read_csv('C:/Users/Engy/Desktop/arabic-natural-audio-dataset/ANAD.csv')\n",
    " df.head()\n",
    "#d = df.loc[df['name'] == \"V2_1 (1).wav'\"]\n",
    "#df.loc[df['name'] == \"V2_1 (1).wav'\", 'Emotion '].values[0]\n"
   ]
  },
  {
   "cell_type": "code",
   "execution_count": 389,
   "metadata": {},
   "outputs": [],
   "source": [
    "def load_data(test_size):\n",
    "    X, y = [], []\n",
    "    for file in glob.glob(\"C:/Users/Engy/Desktop/arabic-natural-audio-dataset/1sec_segmented_*/1sec_segmented_*/*.wav\"):\n",
    "        # get the base name of the audio file\n",
    "        basename = os.path.basename(file)\n",
    "        basename = basename + \"'\"\n",
    "        #s = pd.Series(df('name'))\n",
    "        # get the emotion label\n",
    "        #emotion = int2emotion[basename.split(\"-\")[2]]\n",
    "        #print(basename)\n",
    "        #df= df.to_string(index=False)\n",
    "        #print(df['name'].values)\n",
    "        if (basename in df['name'].values):\n",
    "            #print(basename)\n",
    "            emotion =  df.loc[df['name'] == basename, 'Emotion '].values[0] \n",
    "            # extract speech features\n",
    "            features = extract_feature(file, mfcc=True,chroma=True,mel=True,contrast=True,tonnetz=True)\n",
    "            # add to data\n",
    "            X.append(features)\n",
    "            y.append(emotion)\n",
    "            # split the data to training and testing and return it\n",
    "    \n",
    "    return train_test_split(np.array(X), y, test_size=0.25, random_state=14)"
   ]
  },
  {
   "cell_type": "code",
   "execution_count": 424,
   "metadata": {
    "scrolled": true
   },
   "outputs": [
    {
     "name": "stderr",
     "output_type": "stream",
     "text": [
      "C:\\ProgramData\\Anaconda3\\lib\\site-packages\\librosa\\filters.py:235: UserWarning: Empty filters detected in mel frequency basis. Some channels will produce empty responses. Try increasing your sampling rate (and fmax) or reducing n_mels.\n",
      "  warnings.warn('Empty filters detected in mel frequency basis. '\n"
     ]
    }
   ],
   "source": [
    "X_train, X_test, y_train, y_test = load_data(test_size=0.25)"
   ]
  },
  {
   "cell_type": "code",
   "execution_count": 425,
   "metadata": {},
   "outputs": [],
   "source": [
    "model_params = {\n",
    "    'alpha': 0.01,\n",
    "    'batch_size': 256,\n",
    "    'epsilon': 1e-08, \n",
    "    'hidden_layer_sizes': (300,), \n",
    "    'learning_rate': 'adaptive', \n",
    "    'max_iter': 500, \n",
    "}\n",
    "model = MLPClassifier(**model_params)"
   ]
  },
  {
   "cell_type": "code",
   "execution_count": 426,
   "metadata": {},
   "outputs": [
    {
     "name": "stdout",
     "output_type": "stream",
     "text": [
      "(1000, 188)\n",
      "(1000, 1)\n"
     ]
    },
    {
     "name": "stderr",
     "output_type": "stream",
     "text": [
      "C:\\ProgramData\\Anaconda3\\lib\\site-packages\\sklearn\\neural_network\\multilayer_perceptron.py:566: ConvergenceWarning: Stochastic Optimizer: Maximum iterations (500) reached and the optimization hasn't converged yet.\n",
      "  % self.max_iter, ConvergenceWarning)\n"
     ]
    },
    {
     "data": {
      "text/plain": [
       "MLPClassifier(activation='relu', alpha=0.01, batch_size=256, beta_1=0.9,\n",
       "              beta_2=0.999, early_stopping=False, epsilon=1e-08,\n",
       "              hidden_layer_sizes=(300,), learning_rate='adaptive',\n",
       "              learning_rate_init=0.001, max_iter=500, momentum=0.9,\n",
       "              n_iter_no_change=10, nesterovs_momentum=True, power_t=0.5,\n",
       "              random_state=None, shuffle=True, solver='adam', tol=0.0001,\n",
       "              validation_fraction=0.1, verbose=False, warm_start=False)"
      ]
     },
     "execution_count": 426,
     "metadata": {},
     "output_type": "execute_result"
    }
   ],
   "source": [
    "#X_tr= (X_train).reshape(1000,-1)\n",
    "#y_tr = np.array(y_train).reshape(-1,1)\n",
    "print(X_train.shape)\n",
    "print(y_tr.shape)\n",
    "#print(X_train)\n",
    "model.fit(X_train,y_train)"
   ]
  },
  {
   "cell_type": "code",
   "execution_count": 427,
   "metadata": {},
   "outputs": [
    {
     "name": "stdout",
     "output_type": "stream",
     "text": [
      "(334, 188)\n"
     ]
    }
   ],
   "source": [
    "print(X_test.shape)\n",
    "y_pred = model.predict(X_test)"
   ]
  },
  {
   "cell_type": "code",
   "execution_count": 428,
   "metadata": {},
   "outputs": [
    {
     "name": "stdout",
     "output_type": "stream",
     "text": [
      "Accuracy: 89.82%\n"
     ]
    }
   ],
   "source": [
    "accuracy = accuracy_score(y_true=y_test, y_pred=y_pred)\n",
    "\n",
    "print(\"Accuracy: {:.2f}%\".format(accuracy*100))"
   ]
  },
  {
   "cell_type": "code",
   "execution_count": 396,
   "metadata": {},
   "outputs": [],
   "source": [
    "filename = 'finalized_model.sav'\n",
    "pickle.dump(model, open(filename, 'wb'))\n"
   ]
  },
  {
   "cell_type": "code",
   "execution_count": 405,
   "metadata": {},
   "outputs": [
    {
     "name": "stdout",
     "output_type": "stream",
     "text": [
      "Accuracy: 91.62%\n"
     ]
    }
   ],
   "source": [
    "# load the model from disk\n",
    "loaded_model = pickle.load(open(filename, 'rb'))\n",
    "Acc = loaded_model.score(X_test, y_test) * 100\n",
    "print(\"Accuracy: {:.2f}%\".format(Acc))"
   ]
  },
  {
   "cell_type": "code",
   "execution_count": 448,
   "metadata": {},
   "outputs": [],
   "source": [
    "def predict_record():\n",
    "        X_record= []\n",
    "        # extract speech features\n",
    "        features = extract_feature('Sample.wav', mfcc=True,chroma=True,mel=True,contrast=True,tonnetz=True)\n",
    "        # add to data\n",
    "        X_record.append(features)\n",
    "        y_record = model.predict(np.array(X_record))\n",
    "        print(y_record)\n",
    "        return y_record"
   ]
  },
  {
   "cell_type": "code",
   "execution_count": 449,
   "metadata": {},
   "outputs": [
    {
     "name": "stdout",
     "output_type": "stream",
     "text": [
      "['happy']\n"
     ]
    },
    {
     "name": "stderr",
     "output_type": "stream",
     "text": [
      "C:\\ProgramData\\Anaconda3\\lib\\site-packages\\librosa\\filters.py:235: UserWarning: Empty filters detected in mel frequency basis. Some channels will produce empty responses. Try increasing your sampling rate (and fmax) or reducing n_mels.\n",
      "  warnings.warn('Empty filters detected in mel frequency basis. '\n"
     ]
    }
   ],
   "source": [
    "Out_Emotion = predict_record()"
   ]
  },
  {
   "cell_type": "code",
   "execution_count": null,
   "metadata": {},
   "outputs": [],
   "source": []
  }
 ],
 "metadata": {
  "kernelspec": {
   "display_name": "Python 3",
   "language": "python",
   "name": "python3"
  },
  "language_info": {
   "codemirror_mode": {
    "name": "ipython",
    "version": 3
   },
   "file_extension": ".py",
   "mimetype": "text/x-python",
   "name": "python",
   "nbconvert_exporter": "python",
   "pygments_lexer": "ipython3",
   "version": "3.7.3"
  }
 },
 "nbformat": 4,
 "nbformat_minor": 2
}
